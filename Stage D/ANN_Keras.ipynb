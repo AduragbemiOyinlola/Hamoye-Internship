{
 "cells": [
  {
   "cell_type": "code",
   "execution_count": 1,
   "metadata": {},
   "outputs": [],
   "source": [
    "import numpy as np\n",
    "import matplotlib.pyplot as plt\n",
    "import tensorflow as tf\n",
    "from tensorflow import keras"
   ]
  },
  {
   "cell_type": "code",
   "execution_count": 2,
   "metadata": {},
   "outputs": [],
   "source": [
    "mnist = keras.datasets.mnist"
   ]
  },
  {
   "cell_type": "code",
   "execution_count": 3,
   "metadata": {},
   "outputs": [],
   "source": [
    "(train_images, train_labels), (test_images, test_labels) = mnist.load_data()"
   ]
  },
  {
   "cell_type": "code",
   "execution_count": 4,
   "metadata": {},
   "outputs": [
    {
     "name": "stdout",
     "output_type": "stream",
     "text": [
      "Train data:  (60000, 28, 28), (60000,)\n",
      "Test data:  (10000, 28, 28), (10000,)\n"
     ]
    }
   ],
   "source": [
    "print(\"Train data:  {}, {}\".format(train_images.shape, train_labels.shape))\n",
    "print(\"Test data:  {}, {}\".format(test_images.shape, test_labels.shape))"
   ]
  },
  {
   "cell_type": "code",
   "execution_count": 5,
   "metadata": {},
   "outputs": [
    {
     "name": "stdout",
     "output_type": "stream",
     "text": [
      "There are 10 unique labels in the dataset. They are [0 1 2 3 4 5 6 7 8 9]\n"
     ]
    }
   ],
   "source": [
    "class_labels = np.unique(train_labels)\n",
    "\n",
    "print(f\"There are {len(class_labels)} unique labels in the dataset. They are {class_labels}\")"
   ]
  },
  {
   "cell_type": "markdown",
   "metadata": {},
   "source": [
    "### **VISUALIZE THE IMAGES**"
   ]
  },
  {
   "cell_type": "code",
   "execution_count": 6,
   "metadata": {},
   "outputs": [
    {
     "data": {
      "text/plain": [
       "<Figure size 800x500 with 0 Axes>"
      ]
     },
     "metadata": {},
     "output_type": "display_data"
    }
   ],
   "source": [
    "plt.figure(figsize=(8, 5));"
   ]
  },
  {
   "cell_type": "code",
   "execution_count": 9,
   "metadata": {},
   "outputs": [
    {
     "data": {
      "image/png": "[encoded data removed]",
      "text/plain": [
       "<Figure size 640x480 with 3 Axes>"
      ]
     },
     "metadata": {},
     "output_type": "display_data"
    }
   ],
   "source": [
    "plt.subplot(1, 3, 1)\n",
    "plt.imshow(train_images[0]);\n",
    "plt.title(f\"Label: {train_labels[0]}\");\n",
    "\n",
    "plt.subplot(1, 3, 2)\n",
    "plt.imshow(train_images[1000]);\n",
    "plt.title(f\"Label: {train_labels[1000]}\");\n",
    "\n",
    "plt.subplot(1, 3, 3)\n",
    "plt.imshow(train_images[20]);\n",
    "plt.title(f\"Label: {train_labels[20]}\");"
   ]
  },
  {
   "cell_type": "markdown",
   "metadata": {},
   "source": [
    "### **SCALE THE DATA**"
   ]
  },
  {
   "cell_type": "code",
   "execution_count": 10,
   "metadata": {},
   "outputs": [],
   "source": [
    "train_images = train_images / 255.0\n",
    "test_images = test_images / 255.0"
   ]
  },
  {
   "cell_type": "markdown",
   "metadata": {},
   "source": [
    "### **SPLIT TRAINING DATA TO TRAINING AND VALIDATION SETS**"
   ]
  },
  {
   "cell_type": "code",
   "execution_count": 11,
   "metadata": {},
   "outputs": [
    {
     "name": "stdout",
     "output_type": "stream",
     "text": [
      "x_train: (50000, 28, 28)\n",
      "x_val: (10000, 28, 28)\n",
      "y_train: (50000,)\n",
      "y_val: (10000,)\n"
     ]
    }
   ],
   "source": [
    "x_train = train_images[0:50000]\n",
    "x_val = train_images[50000:]\n",
    "y_train = train_labels[0:50000]\n",
    "y_val = train_labels[50000:]\n",
    "\n",
    "\n",
    "print(f\"x_train: {x_train.shape}\")\n",
    "print(f\"x_val: {x_val.shape}\")\n",
    "print(f\"y_train: {y_train.shape}\")\n",
    "print(f\"y_val: {y_val.shape}\")"
   ]
  },
  {
   "cell_type": "markdown",
   "metadata": {},
   "source": [
    "### **RESHAPE DATA FROM 28 * 28 ARRAY TO A SINGLE ARRAY**"
   ]
  },
  {
   "cell_type": "code",
   "execution_count": 12,
   "metadata": {},
   "outputs": [],
   "source": [
    "new_dimension = np.prod(train_images.shape[1:])\n",
    "x_train = x_train.reshape(x_train.shape[0], new_dimension)\n",
    "x_val = x_val.reshape(x_val.shape[0], new_dimension)\n",
    "test_images = test_images.reshape(test_images.shape[0], new_dimension)"
   ]
  },
  {
   "cell_type": "code",
   "execution_count": 13,
   "metadata": {},
   "outputs": [
    {
     "name": "stdout",
     "output_type": "stream",
     "text": [
      "x_train: (50000, 784)\n",
      "x_val: (10000, 784)\n",
      "test_images: (10000, 784)\n"
     ]
    }
   ],
   "source": [
    "print(f\"x_train: {x_train.shape}\")\n",
    "print(f\"x_val: {x_val.shape}\")\n",
    "print(f\"test_images: {test_images.shape}\")"
   ]
  },
  {
   "cell_type": "markdown",
   "metadata": {},
   "source": [
    "### **ENCODE LABELS TO CATEGORICAL VARIABLES**"
   ]
  },
  {
   "cell_type": "code",
   "execution_count": 14,
   "metadata": {},
   "outputs": [],
   "source": [
    "from tensorflow.keras.utils import to_categorical"
   ]
  },
  {
   "cell_type": "code",
   "execution_count": 15,
   "metadata": {},
   "outputs": [],
   "source": [
    "no_labels = 10\n",
    "y_train = to_categorical(y_train, no_labels)\n",
    "y_val = to_categorical(y_val, no_labels)    \n",
    "y_test = to_categorical(test_labels, no_labels)"
   ]
  },
  {
   "cell_type": "markdown",
   "metadata": {},
   "source": [
    "### **ACTIVATION FUNCTIONS AND NEURAL NETWORKS HYPERPARAMETERS**"
   ]
  },
  {
   "cell_type": "code",
   "execution_count": 16,
   "metadata": {},
   "outputs": [
    {
     "name": "stdout",
     "output_type": "stream",
     "text": [
      "WARNING:tensorflow:From C:\\Users\\Aduragbemi\\AppData\\Local\\Temp\\ipykernel_21324\\1022204102.py:1: The name tf.placeholder is deprecated. Please use tf.compat.v1.placeholder instead.\n",
      "\n"
     ]
    }
   ],
   "source": [
    "X = tf.placeholder(tf.float32, [None, new_dimension])\n",
    "Y = tf.placeholder(tf.float32, [None, no_labels])"
   ]
  },
  {
   "cell_type": "code",
   "execution_count": 17,
   "metadata": {},
   "outputs": [],
   "source": [
    "def multilayer_perceptron(x, no_classes, first_layer_neurons=256, second_layer_neurons=128):\n",
    "    # first layer\n",
    "    first_weight = tf.Variable(tf.random_uniform([new_dimension, first_layer_neurons]))\n",
    "    first_bias = tf.Variable(tf.zeros([first_layer_neurons]))\n",
    "    first_layer_output = tf.nn.relu(tf.add(tf.matmul(x, first_weight), first_bias))\n",
    "    \n",
    "    # second layer\n",
    "    second_weight = tf.Variable(tf.random_uniform([first_layer_neurons, second_layer_neurons]))\n",
    "    second_bias = tf.Variable(tf.zeros([second_layer_neurons]))\n",
    "    second_layer_output = tf.nn.relu(tf.add(tf.matmul(first_layer_output, second_weight), second_bias))\n",
    "    \n",
    "    # output layer\n",
    "    final_weight = tf.Variable(tf.random_uniform([second_layer_neurons, no_classes]))\n",
    "    final_bias = tf.Variable(tf.zeros([no_classes]))\n",
    "    logits = tf.add(tf.matmul(second_layer_output, final_weight), final_bias)\n",
    "    \n",
    "    return logits"
   ]
  },
  {
   "cell_type": "markdown",
   "metadata": {},
   "source": [
    "### **CALL THE MULTILAYER PERCEPTION FUNCTION**"
   ]
  },
  {
   "cell_type": "code",
   "execution_count": 18,
   "metadata": {},
   "outputs": [
    {
     "name": "stdout",
     "output_type": "stream",
     "text": [
      "WARNING:tensorflow:From C:\\Users\\Aduragbemi\\AppData\\Local\\Temp\\ipykernel_21324\\376090150.py:3: The name tf.random_uniform is deprecated. Please use tf.random.uniform instead.\n",
      "\n",
      "WARNING:tensorflow:From C:\\Users\\Aduragbemi\\AppData\\Local\\Temp\\ipykernel_21324\\432166770.py:6: The name tf.train.AdamOptimizer is deprecated. Please use tf.compat.v1.train.AdamOptimizer instead.\n",
      "\n",
      "WARNING:tensorflow:From C:\\Users\\Aduragbemi\\AppData\\Local\\Temp\\ipykernel_21324\\432166770.py:9: The name tf.global_variables_initializer is deprecated. Please use tf.compat.v1.global_variables_initializer instead.\n",
      "\n",
      "WARNING:tensorflow:From C:\\Users\\Aduragbemi\\AppData\\Local\\Temp\\ipykernel_21324\\432166770.py:15: The name tf.Session is deprecated. Please use tf.compat.v1.Session instead.\n",
      "\n",
      "Epoch========0\n",
      "Epoch========1\n",
      "Epoch========2\n",
      "Epoch========3\n",
      "Epoch========4\n",
      "Epoch========5\n",
      "Epoch========6\n",
      "Epoch========7\n",
      "Epoch========8\n",
      "Epoch========9\n",
      "Epoch========10\n",
      "Epoch========11\n",
      "Epoch========12\n",
      "Epoch========13\n",
      "Epoch========14\n",
      "Epoch========15\n",
      "Epoch========16\n",
      "Epoch========17\n",
      "Epoch========18\n",
      "Epoch========19\n",
      "Accuracy:  0.9514\n"
     ]
    }
   ],
   "source": [
    "logits = multilayer_perceptron(X, no_labels)\n",
    "\n",
    "learning_rate = 0.01\n",
    "\n",
    "loss_op = tf.reduce_mean(tf.nn.softmax_cross_entropy_with_logits_v2(logits=logits, labels=Y))\n",
    "optimizer = tf.train.AdamOptimizer(learning_rate=learning_rate)\n",
    "train_op = optimizer.minimize(loss_op)\n",
    "\n",
    "init = tf.global_variables_initializer()\n",
    "\n",
    "epochs = 20\n",
    "batch_size = 100\n",
    "iteration = len(x_train) // batch_size\n",
    "\n",
    "with tf.Session() as session:\n",
    "    session.run(init)\n",
    "    \n",
    "    for epoch in range(epochs):\n",
    "        average_cost = 0\n",
    "        start, end = 0, batch_size\n",
    "        \n",
    "        for i in range(iteration):\n",
    "            batch_x, batch_y = x_train[start: end], y_train[start: end]\n",
    "            _, loss = session.run([train_op, loss_op], feed_dict={X: batch_x, Y: batch_y})\n",
    "            start += batch_size\n",
    "            end += batch_size\n",
    "            average_cost += loss / iteration\n",
    "            \n",
    "        print(f\"Epoch========{epoch}\")\n",
    "\n",
    "    prediction = tf.nn.softmax(logits)\n",
    "    correct_pred = tf.equal(tf.argmax(prediction, 1), tf.argmax(Y, 1))\n",
    "    accuracy = tf.reduce_mean(tf.cast(correct_pred, tf.float32))\n",
    "    print(\"Accuracy: \", accuracy.eval({X: x_val, Y: y_val}))"
   ]
  }
 ],
 "metadata": {
  "kernelspec": {
   "display_name": "Python 3",
   "language": "python",
   "name": "python3"
  },
  "language_info": {
   "codemirror_mode": {
    "name": "ipython",
    "version": 3
   },
   "file_extension": ".py",
   "mimetype": "text/x-python",
   "name": "python",
   "nbconvert_exporter": "python",
   "pygments_lexer": "ipython3",
   "version": "3.7.0"
  }
 },
 "nbformat": 4,
 "nbformat_minor": 2
}
